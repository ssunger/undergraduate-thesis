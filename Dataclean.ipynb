{
 "cells": [
  {
   "cell_type": "code",
   "execution_count": 165,
   "metadata": {
    "collapsed": true
   },
   "outputs": [],
   "source": [
    "import pandas as pd\n",
    "import numpy as np\n",
    "from datetime import datetime\n",
    "import statistics\n",
    "from pandas.tseries.holiday import USFederalHolidayCalendar\n",
    "from pandas.tseries.offsets import Week\n",
    "from pandas.tseries.offsets import BDay\n",
    "from pandas.tseries.offsets import CustomBusinessDay"
   ]
  },
  {
   "cell_type": "code",
   "execution_count": 3,
   "metadata": {
    "collapsed": true
   },
   "outputs": [],
   "source": [
    "S5 = pd.read_csv('S5.csv')\n",
    "S4 = pd.read_csv('S4.csv')\n",
    "S6 = pd.read_csv('S6.csv')\n",
    "con_s5 = pd.read_csv('SNP500.csv')\n",
    "con_s4 = pd.read_csv('SNP400.csv')\n",
    "con_s6 = pd.read_csv('SNP600.csv')"
   ]
  },
  {
   "cell_type": "code",
   "execution_count": 4,
   "metadata": {
    "collapsed": true
   },
   "outputs": [],
   "source": [
    "con_s5[\"index\"] = \"SNP500\"\n",
    "con_s4[\"index\"] = \"SNP400\"\n",
    "con_s6[\"index\"] = \"SNP600\""
   ]
  },
  {
   "cell_type": "code",
   "execution_count": 5,
   "metadata": {},
   "outputs": [],
   "source": [
    "tic_null_s4 = con_s4[con_s4[\"thru\"].isnull()][\"co_tic\"]\n",
    "tic_null_s5 = con_s5[con_s5[\"thru\"].isnull()][\"co_tic\"]\n",
    "tic_null_s6 = con_s6[con_s6[\"thru\"].isnull()][\"co_tic\"]"
   ]
  },
  {
   "cell_type": "code",
   "execution_count": 6,
   "metadata": {
    "collapsed": true
   },
   "outputs": [],
   "source": [
    "con_s5[\"thru\"].replace(np.NaN, '31/01/2018', inplace=True)\n",
    "con_s4[\"thru\"].replace(np.NaN, '31/01/2018', inplace=True)\n",
    "con_s6[\"thru\"].replace(np.NaN, '31/01/2018', inplace=True)"
   ]
  },
  {
   "cell_type": "code",
   "execution_count": 8,
   "metadata": {
    "collapsed": true
   },
   "outputs": [],
   "source": [
    "S = pd.read_csv('cleaned.csv')"
   ]
  },
  {
   "cell_type": "code",
   "execution_count": 9,
   "metadata": {
    "collapsed": true
   },
   "outputs": [],
   "source": [
    "S = pd.concat([S6, S4, S5])\n",
    "S[\"Index\"] = \"None\"\n",
    "indexs = pd.concat([con_s4, con_s5, con_s6])\n",
    "tickers = pd.unique(indexs[\"co_tic\"])\n",
    "indexs[\"from\"] = [datetime.strptime(x, '%d/%m/%Y') for x in indexs[\"from\"]]\n",
    "indexs[\"thru\"] = [datetime.strptime(x, '%d/%m/%Y') for x in indexs[\"thru\"]]"
   ]
  },
  {
   "cell_type": "code",
   "execution_count": 36,
   "metadata": {
    "collapsed": true
   },
   "outputs": [],
   "source": [
    "S_C = S[np.isnan(S[\"MC\"]) != True] # & (S[\"Index\"] != \"None\") ]\n",
    "S_C = S_C.drop(\"Unnamed: 0\", 1)\n",
    "S_C[\"StdIndex\"] = 0\n",
    "S_C[\"AvgIndex\"] = 0\n",
    "S_C[\"IndChange\"] = 0\n",
    "S_C[\"Switch\"] = 0\n",
    "dates = pd.unique(S[\"date\"])\n",
    "dates = np.sort(dates)"
   ]
  },
  {
   "cell_type": "code",
   "execution_count": null,
   "metadata": {},
   "outputs": [],
   "source": [
    "S_C.loc[(S_C[\"TICKER\"] == \"AMD\") & (S_C[\"date\"] <= \"2017-01-01\"), \"Index\"]"
   ]
  },
  {
   "cell_type": "code",
   "execution_count": null,
   "metadata": {
    "scrolled": false
   },
   "outputs": [],
   "source": [
    "x = 0\n",
    "for i in tickers:\n",
    "    x += 1\n",
    "    print(x)\n",
    "    dt = indexs[indexs[\"co_tic\"] == i]\n",
    "    sz = dt.shape[0]\n",
    "    if  sz == 1:\n",
    "        d = str(dt[\"thru\"].iloc[0])[:10]\n",
    "        ind = dt[\"index\"].iloc[0]\n",
    "        S_C.loc[(S_C[\"TICKER\"] == i) & (S_C[\"date\"] <= d), \"Index\"] = ind\n",
    "        S_C.loc[(S_C[\"TICKER\"] == i) & (S_C[\"date\"] == d), \"Switch\"] = 1\n",
    "    else:\n",
    "        for j in range(0, sz):\n",
    "            f = str(dt[\"from\"].iloc[j])[:10]\n",
    "            t = str(dt[\"thru\"].iloc[j])[:10]\n",
    "            ind = dt[\"index\"].iloc[j]\n",
    "            S_C.loc[(S_C[\"TICKER\"] == i) & (S_C[\"date\"] <= t)  & (S_C[\"date\"] >= f), \"Index\"] = ind\n",
    "            S_C.loc[(S_C[\"TICKER\"] == i) & (S_C[\"date\"] == f), \"Switch\"] = 1\n",
    "\n",
    "S_C = S_C.drop_duplicates()\n",
    "S_C.to_csv(\"cleand_w_index.csv\")"
   ]
  },
  {
   "cell_type": "code",
   "execution_count": 168,
   "metadata": {
    "collapsed": true
   },
   "outputs": [],
   "source": [
    "S_C[\"StdIndex-1D\"] = 0\n",
    "S_C[\"StdIndex-1W\"] = 0\n",
    "S_C[\"StdIndex-4W\"] = 0\n",
    "S_C[\"MC-1D\"] = 0\n",
    "S_C[\"MC-1W\"] = 0\n",
    "S_C[\"MC-4W\"] = 0\n",
    "S_C[\"AvgIndex-1D\"] = 0\n",
    "S_C[\"AvgIndex-1W\"] = 0\n",
    "S_C[\"AvgIndex-4W\"] = 0\n",
    "S_C[\"R-0D\"] = 0\n",
    "S_C[\"R-1D\"] = 0\n",
    "S_C[\"R-1W\"] = 0\n",
    "S_C[\"R-4W\"] = 0\n",
    "change_tic = S_C[S_C[\"Switch\"] == 1][\"TICKER\"]\n",
    "change_tic = pd.unique(change_tic)"
   ]
  },
  {
   "cell_type": "code",
   "execution_count": null,
   "metadata": {},
   "outputs": [],
   "source": [
    "k = 0\n",
    "for tic in change_tic[24:]:\n",
    "    k+=1\n",
    "    print(k)\n",
    "    print(tic)\n",
    "    d_s = S_C[(S_C[\"Switch\"] == 1) & (S_C[\"TICKER\"] == tic)][\"date\"]\n",
    "    StdIndex, StdIndex_1D, StdIndex_1W, StdIndex_4W , MC_1D, MC_1W, MC_4W, AvgIndex, AvgIndex_1D, \\\n",
    "    AvgIndex_1W ,AvgIndex_4W = 0, 0, 0, 0, 0, 0, 0, 0, 0, 0, 0\n",
    "    for i in d_s:\n",
    "        if i > min(S_C[S_C[\"TICKER\"] == tic][\"date\"]):\n",
    "            try:\n",
    "                d_sc = i.split(\"-\")\n",
    "                d_minD1 = str(pd.datetime(int(d_sc[0]),int(d_sc[1]),int(d_sc[2])) - BDay(1))[:10]\n",
    "                d_minW1 = str(pd.datetime(int(d_sc[0]),int(d_sc[1]),int(d_sc[2])) - Week(1))[:10]\n",
    "                d_minW4 = str(pd.datetime(int(d_sc[0]),int(d_sc[1]),int(d_sc[2])) - Week(4))[:10]\n",
    "\n",
    "                IndCur = S_C[(S_C[\"date\"] == i) & (S_C[\"TICKER\"] == tic)][\"Index\"].iloc[0]\n",
    "                IndChange = S_C[(S_C[\"date\"] == d_minD1) & (S_C[\"TICKER\"] == tic)][\"Index\"]\n",
    "                if IndChange.size == 0:\n",
    "                    d_minD1 = str(pd.datetime(int(d_sc[0]),int(d_sc[1]),int(d_sc[2])) - BDay(2))[:10]\n",
    "                    IndChange = S_C[(S_C[\"date\"] == d_minD1) & (S_C[\"TICKER\"] == tic)][\"Index\"]\n",
    "                IndChange = IndChange.iloc[0]\n",
    "\n",
    "                MC_1D = S_C[(S_C[\"date\"] == d_minD1) & (S_C[\"Index\"] == IndChange) & (S_C[\"TICKER\"] == tic)][\"MC\"].iloc[0]\n",
    "                MC_1W = S_C[(S_C[\"date\"] == d_minW1) & (S_C[\"Index\"] == IndChange) & (S_C[\"TICKER\"] == tic)][\"MC\"]\n",
    "                MC_4W = S_C[(S_C[\"date\"] == d_minW4) & (S_C[\"Index\"] == IndChange) & (S_C[\"TICKER\"] == tic)][\"MC\"]\n",
    "\n",
    "                if MC_1W.size == 0:\n",
    "                    d_minW1 = str(pd.datetime(int(d_sc[0]),int(d_sc[1]),int(d_sc[2])) - Week(1) - BDay(1))[:10]\n",
    "                    MC_1W = S_C[(S_C[\"date\"] == d_minW1) & (S_C[\"Index\"] == IndChange) & (S_C[\"TICKER\"] == tic)][\"MC\"]\n",
    "                MC_1W = MC_1W.iloc[0]\n",
    "\n",
    "                if MC_4W.size == 0:\n",
    "                    d_minW4 = str(pd.datetime(int(d_sc[0]),int(d_sc[1]),int(d_sc[2])) - Week(4) - BDay(1))[:10]\n",
    "                    MC_4W = S_C[(S_C[\"date\"] == d_minW4) & (S_C[\"Index\"] == IndChange) & (S_C[\"TICKER\"] == tic)][\"MC\"]\n",
    "                MC_4W = MC_4W.iloc[0]\n",
    "    \n",
    "                StdIndex = S_C[(S_C[\"date\"] == i) & (S_C[\"Index\"] == IndChange)][\"MC\"].std()\n",
    "                StdIndex_1D = S_C[(S_C[\"date\"] == d_minD1) & (S_C[\"Index\"] == IndChange)][\"MC\"].std()\n",
    "                StdIndex_1W = S_C[(S_C[\"date\"] == d_minW1) & (S_C[\"Index\"] == IndChange)][\"MC\"].std()\n",
    "                StdIndex_4W = S_C[(S_C[\"date\"] == d_minW4) & (S_C[\"Index\"] == IndChange)][\"MC\"].std()\n",
    "                AvgIndex = S_C[(S_C[\"date\"] == i) & (S_C[\"Index\"] == IndChange)][\"MC\"].mean()\n",
    "                AvgIndex_1D = S_C[(S_C[\"date\"] == d_minD1) & (S_C[\"Index\"] == IndChange)][\"MC\"].mean()\n",
    "                AvgIndex_1W = S_C[(S_C[\"date\"] == d_minW1) & (S_C[\"Index\"] == IndChange)][\"MC\"].mean()\n",
    "                AvgIndex_4W = S_C[(S_C[\"date\"] == d_minW4) & (S_C[\"Index\"] == IndChange)][\"MC\"].mean()\n",
    "\n",
    "                new_df = pd.DataFrame({\"AvgIndex\":[AvgIndex], \"StdIndex\":[StdIndex_1D],\"StdIndex-1W\":[StdIndex_1W],\n",
    "                                       \"StdIndex-4W\":[StdIndex_4W], \"MC-1D\":[MC_1D], \"MC-1W\":[MC_1W],\"MC-4W\":[MC_4W],\n",
    "                                       \"AvgIndex-1D\": [AvgIndex_1D], \"AvgIndex-1W\":[AvgIndex_1W],\n",
    "                                       \"StdIndex-1D\":[StdIndex_1D],\"AvgIndex-4W\":[AvgIndex_4W], \"IndChange\":[IndChange]},\n",
    "                                      index = [S_C[(S_C[\"date\"] == i) & (S_C[\"TICKER\"] == tic)].index[0]])\n",
    "                S_C.update(new_df)\n",
    "            except:\n",
    "                continue\n",
    "        else:\n",
    "            S_C.loc[(S_C[\"TICKER\"] == tic) & (S_C[\"date\"] == i), \"Switch\"] = 0\n",
    "S_C = S_C.drop_duplicates()\n",
    "S_C.to_csv(\"cleand_std_avg.csv\")"
   ]
  },
  {
   "cell_type": "code",
   "execution_count": 337,
   "metadata": {},
   "outputs": [
    {
     "name": "stderr",
     "output_type": "stream",
     "text": [
      "/anaconda/lib/python3.6/site-packages/ipykernel_launcher.py:3: SettingWithCopyWarning: \n",
      "A value is trying to be set on a copy of a slice from a DataFrame.\n",
      "Try using .loc[row_indexer,col_indexer] = value instead\n",
      "\n",
      "See the caveats in the documentation: http://pandas.pydata.org/pandas-docs/stable/indexing.html#indexing-view-versus-copy\n",
      "  This is separate from the ipykernel package so we can avoid doing imports until\n"
     ]
    }
   ],
   "source": [
    "S_C[(S_C[\"Switch\"] == 1)].to_csv(\"changers.csv\")"
   ]
  },
  {
   "cell_type": "code",
   "execution_count": null,
   "metadata": {},
   "outputs": [],
   "source": [
    "k = 0\n",
    "for tic in change_tic[52:]:\n",
    "    k+=1\n",
    "    print(k)\n",
    "    print(tic)\n",
    "    d_s = S_C[(S_C[\"Switch\"] == 1) & (S_C[\"TICKER\"] == tic)][\"date\"]\n",
    "    R_p1D, R_p0D, R_p1W, R_p4W = 0, 0, 0, 0\n",
    "    for i in d_s:\n",
    "        if i > min(S_C[S_C[\"TICKER\"] == tic][\"date\"]):\n",
    "            try:\n",
    "                d_sc = i.split(\"-\")\n",
    "                d_mD1 = str(pd.datetime(int(d_sc[0]),int(d_sc[1]),int(d_sc[2])) - BDay(1))[:10]\n",
    "                d_pD1 = str(pd.datetime(int(d_sc[0]),int(d_sc[1]),int(d_sc[2])) + BDay(1))[:10]\n",
    "                d_pW1 = str(pd.datetime(int(d_sc[0]),int(d_sc[1]),int(d_sc[2])) + Week(1))[:10]\n",
    "                d_pW4 = str(pd.datetime(int(d_sc[0]),int(d_sc[1]),int(d_sc[2])) + Week(4))[:10]\n",
    "                \n",
    "                P_m1D = S_C[(S_C[\"date\"] == d_mD1) & (S_C[\"TICKER\"] == tic)][\"PRC\"].iloc[0]\n",
    "                P_p0D = S_C[(S_C[\"date\"] == i)     & (S_C[\"TICKER\"] == tic)][\"PRC\"].iloc[0]\n",
    "                P_p1D = S_C[(S_C[\"date\"] == d_pD1) & (S_C[\"TICKER\"] == tic)][\"PRC\"].iloc[0]\n",
    "                P_p1W = S_C[(S_C[\"date\"] == d_pW1) & (S_C[\"TICKER\"] == tic)][\"PRC\"].iloc[0]\n",
    "                P_p4W = S_C[(S_C[\"date\"] == d_pW4) & (S_C[\"TICKER\"] == tic)][\"PRC\"].iloc[0]\n",
    "                \n",
    "                R_p0D = (P_p0D - P_m1D)/P_m1D\n",
    "                R_p1D = (P_p1D - P_m1D)/P_m1D\n",
    "                R_p1W = (P_p1W - P_m1D)/P_m1D\n",
    "                R_p4W = (P_p4W - P_m1D)/P_m1D\n",
    "                \n",
    "                new_df = pd.DataFrame({\"R-0D\":[R_p0D], \"R-1D\":[R_p1D],\"R-1W\":[R_p1W], \"R-4W\":[R_p4W]},\n",
    "                                      index = [S_C[(S_C[\"date\"] == i) & (S_C[\"TICKER\"] == tic)].index[0]])\n",
    "                S_C.update(new_df)\n",
    "            except:\n",
    "                continue\n"
   ]
  },
  {
   "cell_type": "code",
   "execution_count": 386,
   "metadata": {},
   "outputs": [
    {
     "name": "stderr",
     "output_type": "stream",
     "text": [
      "/anaconda/lib/python3.6/site-packages/ipykernel_launcher.py:2: SettingWithCopyWarning: \n",
      "A value is trying to be set on a copy of a slice from a DataFrame.\n",
      "Try using .loc[row_indexer,col_indexer] = value instead\n",
      "\n",
      "See the caveats in the documentation: http://pandas.pydata.org/pandas-docs/stable/indexing.html#indexing-view-versus-copy\n",
      "  \n"
     ]
    }
   ],
   "source": [
    "D = S_C[ (S_C[\"Switch\"] == 1) & (S_C[\"IndChange\"] != 0) & (S_C[\"R-0D\"] != 0) ]\n",
    "D[\"toINDfrom\"] = D[\"Index\"] + D[\"IndChange\"]\n",
    "D.to_csv(\"temp_date.csv\")"
   ]
  },
  {
   "cell_type": "code",
   "execution_count": null,
   "metadata": {},
   "outputs": [],
   "source": [
    "D = S_C[ (S_C[\"Switch\"] == 1) & (S_C[\"IndChange\"] != 0)]\n",
    "D[\"toINDfrom\"] = D[\"Index\"] + D[\"IndChange\"]\n",
    "D.to_csv(\"data_thesis.csv\")"
   ]
  },
  {
   "cell_type": "code",
   "execution_count": 321,
   "metadata": {},
   "outputs": [],
   "source": [
    "S_C[ (S_C[\"Switch\"] == 1) & (S_C[\"IndChange\"] != 0)].to_csv(\"data_thesis.csv\")"
   ]
  }
 ],
 "metadata": {
  "kernelspec": {
   "display_name": "Python 3",
   "language": "python",
   "name": "python3"
  },
  "language_info": {
   "codemirror_mode": {
    "name": "ipython",
    "version": 3
   },
   "file_extension": ".py",
   "mimetype": "text/x-python",
   "name": "python",
   "nbconvert_exporter": "python",
   "pygments_lexer": "ipython3",
   "version": "3.6.3"
  }
 },
 "nbformat": 4,
 "nbformat_minor": 2
}
